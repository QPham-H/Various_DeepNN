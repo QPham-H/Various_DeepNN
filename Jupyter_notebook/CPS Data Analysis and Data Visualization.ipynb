{
 "cells": [
  {
   "cell_type": "markdown",
   "id": "b1422011",
   "metadata": {},
   "source": [
    "# Chicago Public School Data Analysis and Data Visualization - High Schools\n",
    "### What attributes seem to be most correlated with a school's performance?\n",
    "In this code, we will be doing a data analysis on Chicago Public Schools to provide insight to the attributes that are most indicative or correlated with how a student is likely to perform in school. It will be focused on data visualizations with a statistical approach to interpretations.\n",
    "\n",
    "Table of Contents:\n",
    "- 1) Data Collection \n",
    "- 2) Exploratory Data Analysis and Preprocessing\n",
    "- 4) Statistic Analysis and Data Visualization"
   ]
  },
  {
   "cell_type": "markdown",
   "id": "2feba6fb",
   "metadata": {},
   "source": [
    "#### Data Collection\n",
    "We can download the public dataset from Kaggle.com at https://www.kaggle.com/chicago/chicago-public-schools-data?select=chicago-public-schools-high-school-progress-report-2013-2014.csv\n",
    "\n",
    "At this time, the data has elementary and high school progress reports from 2013-2014. We will be focusing on just the high school data. However, we will utilize machine learning workflow pipeline practices to allow for scalability into other datasets such as the elementary CPS data. "
   ]
  },
  {
   "cell_type": "code",
   "execution_count": 1,
   "id": "9b8b0fac",
   "metadata": {
    "scrolled": true
   },
   "outputs": [
    {
     "name": "stdout",
     "output_type": "stream",
     "text": [
      "This is the dateframe shape: (188, 103)\n",
      "These are the columns:\n",
      "Index(['School ID', 'Name of School', 'Street Address', 'City', 'State',\n",
      "       'ZIP Code', 'Phone Number', 'Website', 'Blue Ribbon Award',\n",
      "       'CPS Performance Policy Level',\n",
      "       ...\n",
      "       'Y Coordinate', 'Longitude', 'Latitude', 'Location',\n",
      "       'Boundaries - ZIP Codes', 'Community Areas', 'Zip Codes',\n",
      "       'Census Tracts', 'Wards', 'Historical Wards 2003-2015'],\n",
      "      dtype='object', length=103)\n",
      "   School ID                                    Name of School  \\\n",
      "0     610572                   Camelot Safe Academy Elementary   \n",
      "1     400133           YCCS-Innovations of Arts Integration HS   \n",
      "2     400148  Instituto Justice and Leadership Acad Charter HS   \n",
      "3     609761                      George H Corliss High School   \n",
      "4     609716                           Kelvyn Park High School   \n",
      "\n",
      "            Street Address     City State  ZIP Code     Phone Number  \\\n",
      "0           125 S Clark St  Chicago    IL     60603  (773) 902-7297    \n",
      "1            220 W 45th Pl  Chicago    IL     60609  (312) 999-9360    \n",
      "2  2570 S Blue Island Blvd  Chicago    IL     60608  (773) 696-3610    \n",
      "3           821 E 103rd St  Chicago    IL     60628   (773) 535-5115   \n",
      "4    4343 W Wrightwood Ave  Chicago    IL     60639   (773) 534-4200   \n",
      "\n",
      "                            Website  Blue Ribbon Award  \\\n",
      "0                http://www.cps.edu                NaN   \n",
      "1                http://www.cps.edu                NaN   \n",
      "2                http://www.cps.edu                NaN   \n",
      "3  http://www.corliss.cps.k12.il.us                NaN   \n",
      "4      http://www.kelvynparkhs.org/                NaN   \n",
      "\n",
      "  CPS Performance Policy Level  ... Y Coordinate  Longitude   Latitude  \\\n",
      "0                          NaN  ...  1899641.066  41.879989 -87.630689   \n",
      "1                          NaN  ...  1874817.069  41.811873 -87.631977   \n",
      "2                          NaN  ...  1886950.606  41.845477 -87.684065   \n",
      "3                      LEVEL 3  ...  1836810.314  41.707391 -87.603078   \n",
      "4                      LEVEL 3  ...  1916879.493  41.927891 -87.736002   \n",
      "\n",
      "                                            Location  Boundaries - ZIP Codes  \\\n",
      "0  {'latitude': '-87.63068884', 'longitude': '41....                     NaN   \n",
      "1  {'latitude': '-87.63197673', 'longitude': '41....                     NaN   \n",
      "2  {'latitude': '-87.68406506', 'longitude': '41....                     NaN   \n",
      "3  {'latitude': '-87.60307842', 'longitude': '41....                     NaN   \n",
      "4  {'latitude': '-87.73600171', 'longitude': '41....                     NaN   \n",
      "\n",
      "  Community Areas Zip Codes Census Tracts Wards Historical Wards 2003-2015  \n",
      "0             NaN       NaN           NaN   NaN                        NaN  \n",
      "1             NaN       NaN           NaN   NaN                        NaN  \n",
      "2             NaN       NaN           NaN   NaN                        NaN  \n",
      "3             NaN       NaN           NaN   NaN                        NaN  \n",
      "4             NaN       NaN           NaN   NaN                        NaN  \n",
      "\n",
      "[5 rows x 103 columns]\n"
     ]
    }
   ],
   "source": [
    "import pandas as pd\n",
    "\n",
    "# Import data from csv file\n",
    "df = pd.read_csv('chicago-public-schools-high-school-progress-report-2013-2014.csv')\n",
    "print(f'This is the dateframe shape: {df.shape}')\n",
    "print('These are the columns:')\n",
    "print(df.columns)\n",
    "print(df.head(5))"
   ]
  },
  {
   "cell_type": "markdown",
   "id": "dec72229",
   "metadata": {},
   "source": [
    "#### Exploratory Data Analysis and Preprocessing\n",
    "\n",
    "There are 188 rows or data observations and a staggering 103 columns or features/attributes. \n",
    "\n",
    "We will:\n",
    "1) drop duplicate values\n",
    "2) check with columns that have null values and drop those\n",
    "3) trim the columns/attributes with what we believe, within reason, that should have no correlation with school performance (a priori knowledge)"
   ]
  },
  {
   "cell_type": "code",
   "execution_count": 2,
   "id": "3cf70ab3",
   "metadata": {},
   "outputs": [
    {
     "name": "stdout",
     "output_type": "stream",
     "text": [
      "Number of rows after dropping dupes: (188, 103)\n",
      "Index(['Phone Number', 'Blue Ribbon Award', 'CPS Performance Policy Level',\n",
      "       'CPS Performance Policy Status', 'Probation Length',\n",
      "       'Student Response Rate', 'Teacher Response Rate', 'School Community',\n",
      "       'Parent-Teacher Partnership', 'Quality of Facilities',\n",
      "       'NWEA Reading Growth Percentile All Grades',\n",
      "       'NWEA Reading Growth Percentile Grade 3',\n",
      "       'NWEA Reading Growth Percentile Grade 4',\n",
      "       'NWEA Reading Growth Percentile Grade 5',\n",
      "       'NWEA Reading Growth Percentile Grade 6',\n",
      "       'NWEA Reading Growth Percentile Grade 7',\n",
      "       'NWEA Reading Growth Percentile Grade 8', 'NWEA Math Growth All Grades',\n",
      "       'NWEA Math Growth Grade 3', 'NWEA Math Growth Grade 4',\n",
      "       'NWEA Math Growth Grade 5', 'NWEA Math Growth Grade 6',\n",
      "       'NWEA Math Growth Grade 7', 'NWEA Math Growth Grade 8',\n",
      "       'NWEA Reading Attainment Percentile All Grades',\n",
      "       'NWEA Reading Attainment Percentile Grade 2',\n",
      "       'NWEA Reading Attainment Percentile Grade 3',\n",
      "       'NWEA Reading Attainment Percentile Grade 4',\n",
      "       'NWEA Reading Attainment Percentile Grade 5',\n",
      "       'NWEA Reading Attainment Percentile Grade 6',\n",
      "       'NWEA Reading Attainment Percentile Grade 7',\n",
      "       'NWEA Reading Attainment Percentile Grade 8',\n",
      "       'NWEA Math Attainment Percentile All Grades',\n",
      "       'NWEA Math Attainment Percentile Grade 2',\n",
      "       'NWEA Math Attainment Percentile Grade 3',\n",
      "       'NWEA Math Attainment Percentile Grade 4',\n",
      "       'NWEA Math Attainment Percentile Grade 5',\n",
      "       'NWEA Math Attainment Percentile Grade 6',\n",
      "       'NWEA Math Attainment Percentile Grade 7',\n",
      "       'NWEA Math Attainment Percentile Grade 8', 'EPAS Growth Percentile',\n",
      "       'EXPLORE Growth Percentile Grade 9', 'Plan Growth Percentile Grade 10',\n",
      "       'ACT Growth Percentile Grade 11', 'EPAS Attainment Percentile',\n",
      "       'EXPLORE Attainment Percentile Grade 9',\n",
      "       'PLAN Attainment Percentile Grade 10',\n",
      "       'Grade ACT Attainment Percentile Grade 11',\n",
      "       'EXPLORE Spring 2013 Average Grade 9',\n",
      "       'EXPLORE Spring 2013 Average Grade 10',\n",
      "       'EXPLORE Fall 2011 Average Grade 9', 'PLAN Fall 2012 Average Grade 10',\n",
      "       'ACT Spring 2013 Average Grade 11',\n",
      "       'Freshmen-on-Track Rate Percentage 2013',\n",
      "       'Freshmen-on-Track Rate Percentage 2012',\n",
      "       '4-Year Graduation Rate Percentage 2013',\n",
      "       '4-Year Graduation Rate Percentage 2012',\n",
      "       '5-Year Graduation Rate Percentage 2013',\n",
      "       '5-Year Graduation Rate Percentage 2012',\n",
      "       'College Enrollment Rate Percentage 2013',\n",
      "       'College Enrollment Rate Percentage 2012',\n",
      "       'College Persistence Rate Percentage 2013',\n",
      "       'College Persistence Rate Percentage 2012', 'Suspensions Per 100 2013',\n",
      "       'Suspensions Per 100 2012',\n",
      "       'Percentage of Misconducts Resulting in Suspension 2013',\n",
      "       'Percentage of Misconducts Resulting in Suspension 2012',\n",
      "       'Average Length of Suspensions 2013',\n",
      "       'Average Length of Suspensions 2012',\n",
      "       'Student Attendance Percentage 2013',\n",
      "       'Student Attendance Percentage 2012',\n",
      "       'Teacher Attendance Percentage 2013',\n",
      "       'Teacher Attendance Percentage 2012', 'Gr3-8 On-Track Percentage 2013',\n",
      "       'One-Year DropOut Rate Percentage 2013',\n",
      "       'One-Year DropOut Rate Percentage 2012', 'Boundaries - ZIP Codes',\n",
      "       'Community Areas', 'Zip Codes', 'Census Tracts', 'Wards',\n",
      "       'Historical Wards 2003-2015'],\n",
      "      dtype='object')\n"
     ]
    }
   ],
   "source": [
    "# Drop duplicates\n",
    "df = df.drop_duplicates()\n",
    "print(f'Number of rows after dropping dupes: {df.shape}')\n",
    "\n",
    "# Check which columns have null values\n",
    "null_list = df.columns[df.isna().any()]\n",
    "print(null_list)"
   ]
  },
  {
   "cell_type": "markdown",
   "id": "ef9129c3",
   "metadata": {},
   "source": [
    "The number of columns with null values are larger than expected. We have several options for missing values. \n",
    "\n",
    "We could either:\n",
    "- Take the average for that column and fill the missing values in (imputation)\n",
    "- Remove the data point/row with the missing value from the dataset\n",
    "- Predict the value with regression or k-NN\n",
    "\n",
    "This usually depends on how many missing values we have for that particular column so we will use a mixed approach. \n",
    "\n",
    "We will first select the columns that have more than 30% of its data missing and remove those columns. Data missing more than 10% will likely have bias. \n",
    "\n",
    "Then we will remove columns with a priori assumptions of it's correlation."
   ]
  },
  {
   "cell_type": "code",
   "execution_count": 8,
   "id": "abffa2c4",
   "metadata": {},
   "outputs": [
    {
     "data": {
      "text/plain": [
       "<function matplotlib.pyplot.show(close=None, block=None)>"
      ]
     },
     "execution_count": 8,
     "metadata": {},
     "output_type": "execute_result"
    },
    {
     "data": {
      "image/png": "[encoded data removed]",
      "text/plain": [
       "<Figure size 432x288 with 1 Axes>"
      ]
     },
     "metadata": {
      "needs_background": "light"
     },
     "output_type": "display_data"
    }
   ],
   "source": [
    "import matplotlib.pyplot as plt\n",
    "\n",
    "# Show all rows\n",
    "#pd.set_option(\"display.max_rows\", None)\n",
    "\n",
    "# Percentage of null values per column\n",
    "null_list = df.columns[df.isna().any()] # Pull out all columns with nulls\n",
    "null_list = df[null_list.to_numpy()].isna().sum()/df.shape[0]\n",
    "\n",
    "# Using a histogram to see the distribution of missing values\n",
    "null_hist = plt.hist(null_list, bins=30)\n",
    "plt.xlabel('Percent Missing Values of Data in Column')\n",
    "plt.ylabel('Frequency')\n",
    "plt.show"
   ]
  },
  {
   "cell_type": "markdown",
   "id": "dc0498df",
   "metadata": {},
   "source": [
    "We can see that of columns that have missing values, the largest portion of them are missing all of their values (the 1.0 bin).\n",
    "\n",
    "Using this distribution of missing values, we will drop columns that are missing 50% or more of their values to retain columns that may still work well after we impute the missing values."
   ]
  },
  {
   "cell_type": "code",
   "execution_count": 9,
   "id": "b8ee1acc",
   "metadata": {},
   "outputs": [
    {
     "name": "stdout",
     "output_type": "stream",
     "text": [
      "Index(['Blue Ribbon Award', 'Probation Length',\n",
      "       'NWEA Reading Growth Percentile All Grades',\n",
      "       'NWEA Reading Growth Percentile Grade 3',\n",
      "       'NWEA Reading Growth Percentile Grade 4',\n",
      "       'NWEA Reading Growth Percentile Grade 5',\n",
      "       'NWEA Reading Growth Percentile Grade 6',\n",
      "       'NWEA Reading Growth Percentile Grade 7',\n",
      "       'NWEA Reading Growth Percentile Grade 8', 'NWEA Math Growth All Grades',\n",
      "       'NWEA Math Growth Grade 3', 'NWEA Math Growth Grade 4',\n",
      "       'NWEA Math Growth Grade 5', 'NWEA Math Growth Grade 6',\n",
      "       'NWEA Math Growth Grade 7', 'NWEA Math Growth Grade 8',\n",
      "       'NWEA Reading Attainment Percentile All Grades',\n",
      "       'NWEA Reading Attainment Percentile Grade 2',\n",
      "       'NWEA Reading Attainment Percentile Grade 3',\n",
      "       'NWEA Reading Attainment Percentile Grade 4',\n",
      "       'NWEA Reading Attainment Percentile Grade 5',\n",
      "       'NWEA Reading Attainment Percentile Grade 6',\n",
      "       'NWEA Reading Attainment Percentile Grade 7',\n",
      "       'NWEA Reading Attainment Percentile Grade 8',\n",
      "       'NWEA Math Attainment Percentile All Grades',\n",
      "       'NWEA Math Attainment Percentile Grade 2',\n",
      "       'NWEA Math Attainment Percentile Grade 3',\n",
      "       'NWEA Math Attainment Percentile Grade 4',\n",
      "       'NWEA Math Attainment Percentile Grade 5',\n",
      "       'NWEA Math Attainment Percentile Grade 6',\n",
      "       'NWEA Math Attainment Percentile Grade 7',\n",
      "       'NWEA Math Attainment Percentile Grade 8',\n",
      "       'Freshmen-on-Track Rate Percentage 2013',\n",
      "       'Freshmen-on-Track Rate Percentage 2012',\n",
      "       'Percentage of Misconducts Resulting in Suspension 2012',\n",
      "       'Average Length of Suspensions 2012', 'Gr3-8 On-Track Percentage 2013',\n",
      "       'Boundaries - ZIP Codes', 'Community Areas', 'Zip Codes',\n",
      "       'Census Tracts', 'Wards', 'Historical Wards 2003-2015'],\n",
      "      dtype='object')\n"
     ]
    }
   ],
   "source": [
    "# Remove columns with too many missing values\n",
    "threshold = 0.5\n",
    "nan_list = df.columns[df.isna().sum() >= (threshold * df.shape[0])]\n",
    "print(nan_list)"
   ]
  },
  {
   "cell_type": "code",
   "execution_count": 10,
   "id": "54f5d1b9",
   "metadata": {},
   "outputs": [
    {
     "data": {
      "text/plain": [
       "Index(['School ID', 'Name of School', 'Street Address', 'City', 'State',\n",
       "       'ZIP Code', 'Phone Number', 'Website', 'CPS Performance Policy Level',\n",
       "       'CPS Performance Policy Status', 'My Voice, My School Overall Rating',\n",
       "       'Student Response Rate', 'Teacher Response Rate', 'Involved Family',\n",
       "       'Supportive Environment', 'Ambitious Instruction', 'Effective Leaders',\n",
       "       'Collaborative Teachers', 'Safe', 'School Community',\n",
       "       'Parent-Teacher Partnership', 'Quality of Facilities',\n",
       "       'Healthy Schools Certification', 'Creative Schools Certification',\n",
       "       'EPAS Growth Percentile', 'EXPLORE Growth Percentile Grade 9',\n",
       "       'Plan Growth Percentile Grade 10', 'ACT Growth Percentile Grade 11',\n",
       "       'EPAS Attainment Percentile', 'EXPLORE Attainment Percentile Grade 9',\n",
       "       'PLAN Attainment Percentile Grade 10',\n",
       "       'Grade ACT Attainment Percentile Grade 11',\n",
       "       'EXPLORE Spring 2013 Average Grade 9',\n",
       "       'EXPLORE Spring 2013 Average Grade 10',\n",
       "       'EXPLORE Fall 2011 Average Grade 9', 'PLAN Fall 2012 Average Grade 10',\n",
       "       'ACT Spring 2013 Average Grade 11',\n",
       "       '4-Year Graduation Rate Percentage 2013',\n",
       "       '4-Year Graduation Rate Percentage 2012',\n",
       "       '5-Year Graduation Rate Percentage 2013',\n",
       "       '5-Year Graduation Rate Percentage 2012',\n",
       "       'College Enrollment Rate Percentage 2013',\n",
       "       'College Enrollment Rate Percentage 2012',\n",
       "       'College Persistence Rate Percentage 2013',\n",
       "       'College Persistence Rate Percentage 2012', 'Suspensions Per 100 2013',\n",
       "       'Suspensions Per 100 2012',\n",
       "       'Percentage of Misconducts Resulting in Suspension 2013',\n",
       "       'Average Length of Suspensions 2013',\n",
       "       'Student Attendance Percentage 2013',\n",
       "       'Student Attendance Percentage 2012',\n",
       "       'Teacher Attendance Percentage 2013',\n",
       "       'Teacher Attendance Percentage 2012',\n",
       "       'One-Year DropOut Rate Percentage 2013',\n",
       "       'One-Year DropOut Rate Percentage 2012', 'X Coordinate', 'Y Coordinate',\n",
       "       'Longitude', 'Latitude', 'Location'],\n",
       "      dtype='object')"
      ]
     },
     "execution_count": 10,
     "metadata": {},
     "output_type": "execute_result"
    }
   ],
   "source": [
    "# Remove columns\n",
    "df = df.drop(columns=nan_list.to_numpy())\n",
    "\n",
    "# Print and show the remaining columns\n",
    "df.columns"
   ]
  },
  {
   "cell_type": "markdown",
   "id": "19d6d1a9",
   "metadata": {},
   "source": [
    "Now we will analyze these columns to see whether we should remove that data point/row, impute the values in the columns, or remove the column with a priori assumptions of its correlation."
   ]
  },
  {
   "cell_type": "code",
   "execution_count": 12,
   "id": "25d4e43b",
   "metadata": {},
   "outputs": [
    {
     "data": {
      "text/plain": [
       "School ID                                                 0.000000\n",
       "Name of School                                            0.000000\n",
       "Street Address                                            0.000000\n",
       "City                                                      0.000000\n",
       "State                                                     0.000000\n",
       "ZIP Code                                                  0.000000\n",
       "Phone Number                                              0.090426\n",
       "Website                                                   0.000000\n",
       "CPS Performance Policy Level                              0.250000\n",
       "CPS Performance Policy Status                             0.250000\n",
       "My Voice, My School Overall Rating                        0.000000\n",
       "Student Response Rate                                     0.101064\n",
       "Teacher Response Rate                                     0.101064\n",
       "Involved Family                                           0.000000\n",
       "Supportive Environment                                    0.000000\n",
       "Ambitious Instruction                                     0.000000\n",
       "Effective Leaders                                         0.000000\n",
       "Collaborative Teachers                                    0.000000\n",
       "Safe                                                      0.000000\n",
       "School Community                                          0.101064\n",
       "Parent-Teacher Partnership                                0.101064\n",
       "Quality of Facilities                                     0.101064\n",
       "Healthy Schools Certification                             0.000000\n",
       "Creative Schools Certification                            0.000000\n",
       "EPAS Growth Percentile                                    0.239362\n",
       "EXPLORE Growth Percentile Grade 9                         0.409574\n",
       "Plan Growth Percentile Grade 10                           0.425532\n",
       "ACT Growth Percentile Grade 11                            0.313830\n",
       "EPAS Attainment Percentile                                0.148936\n",
       "EXPLORE Attainment Percentile Grade 9                     0.409574\n",
       "PLAN Attainment Percentile Grade 10                       0.425532\n",
       "Grade ACT Attainment Percentile Grade 11                  0.170213\n",
       "EXPLORE Spring 2013 Average Grade 9                       0.409574\n",
       "EXPLORE Spring 2013 Average Grade 10                      0.420213\n",
       "EXPLORE Fall 2011 Average Grade 9                         0.313830\n",
       "PLAN Fall 2012 Average Grade 10                           0.303191\n",
       "ACT Spring 2013 Average Grade 11                          0.170213\n",
       "4-Year Graduation Rate Percentage 2013                    0.324468\n",
       "4-Year Graduation Rate Percentage 2012                    0.377660\n",
       "5-Year Graduation Rate Percentage 2013                    0.398936\n",
       "5-Year Graduation Rate Percentage 2012                    0.436170\n",
       "College Enrollment Rate Percentage 2013                   0.351064\n",
       "College Enrollment Rate Percentage 2012                   0.382979\n",
       "College Persistence Rate Percentage 2013                  0.430851\n",
       "College Persistence Rate Percentage 2012                  0.494681\n",
       "Suspensions Per 100 2013                                  0.441489\n",
       "Suspensions Per 100 2012                                  0.462766\n",
       "Percentage of Misconducts Resulting in Suspension 2013    0.468085\n",
       "Average Length of Suspensions 2013                        0.468085\n",
       "Student Attendance Percentage 2013                        0.101064\n",
       "Student Attendance Percentage 2012                        0.244681\n",
       "Teacher Attendance Percentage 2013                        0.489362\n",
       "Teacher Attendance Percentage 2012                        0.494681\n",
       "One-Year DropOut Rate Percentage 2013                     0.111702\n",
       "One-Year DropOut Rate Percentage 2012                     0.265957\n",
       "X Coordinate                                              0.000000\n",
       "Y Coordinate                                              0.000000\n",
       "Longitude                                                 0.000000\n",
       "Latitude                                                  0.000000\n",
       "Location                                                  0.000000\n",
       "dtype: float64"
      ]
     },
     "execution_count": 12,
     "metadata": {},
     "output_type": "execute_result"
    }
   ],
   "source": [
    "# Check missing values\n",
    "df.isna().sum() / df.shape[0]"
   ]
  }
 ],
 "metadata": {
  "kernelspec": {
   "display_name": "Python 3 (ipykernel)",
   "language": "python",
   "name": "python3"
  },
  "language_info": {
   "codemirror_mode": {
    "name": "ipython",
    "version": 3
   },
   "file_extension": ".py",
   "mimetype": "text/x-python",
   "name": "python",
   "nbconvert_exporter": "python",
   "pygments_lexer": "ipython3",
   "version": "3.9.5"
  }
 },
 "nbformat": 4,
 "nbformat_minor": 5
}
