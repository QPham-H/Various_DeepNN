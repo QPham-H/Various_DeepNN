{
 "cells": [
  {
   "cell_type": "markdown",
   "id": "243cc252",
   "metadata": {},
   "source": [
    "# Devanagari Image Querying Using A Convolutional Neural Network Autoencoder and k-Nearest Neighbors\n",
    "Devanagiri is the alphabet writing system used for Sanskrit, Hindi, and other Indian languages. Our dataset is set up as a row of pixels per image in a csv file. \n",
    "\n",
    "Given an Devanagari image, we want to query the database and return five images that are closest to the query image. For this, we will design and train a convolutional neural net autoencoder on the images. \n",
    "\n",
    "A properly trained autoencoder allows the images to have a simpler representation in latent space. This condense encoding is easier to search and is then used by a k-nearest neighbor algorithm to find other images whose encodings are most similar, translating to similar images.  \n",
    "\n",
    "Let's analyze the data further to have a better idea of our dataset."
   ]
  },
  {
   "cell_type": "code",
   "execution_count": 1,
   "id": "526812cd",
   "metadata": {},
   "outputs": [
    {
     "name": "stdout",
     "output_type": "stream",
     "text": [
      "Data shape:  (7702, 3073)\n",
      "  label  x_0  x_1  x_2  x_3  x_4  x_5  x_6  x_7  x_8  ...  x_3062  x_3063  \\\n",
      "0     i  211  243  254  211  243  254  210  242  253  ...     242     211   \n",
      "1    ti  201  229  236  205  232  239  202  230  235  ...     246     206   \n",
      "2     a  214  243  252  214  243  252  213  242  251  ...     233     193   \n",
      "3  smaa  212  241  250  212  241  250  212  241  250  ...     249     213   \n",
      "4   kaM  215  243  250  215  243  250  214  242  249  ...     241     201   \n",
      "\n",
      "   x_3064  x_3065  x_3066  x_3067  x_3068  x_3069  x_3070  x_3071  \n",
      "0     240     245     213     242     247     213     242     247  \n",
      "1     234     245     204     233     242     204     233     242  \n",
      "2     222     231     192     221     230     192     221     230  \n",
      "3     241     252     212     240     251     210     238     249  \n",
      "4     231     241     201     231     242     202     232     243  \n",
      "\n",
      "[5 rows x 3073 columns]\n"
     ]
    }
   ],
   "source": [
    "import pandas as pd\n",
    "\n",
    "file = 'devanagiri.csv'\n",
    "data = pd.read_csv(file)\n",
    "print(\"Data shape: \", data.shape)\n",
    "print(data.head(5))"
   ]
  },
  {
   "cell_type": "markdown",
   "id": "6673d9bf",
   "metadata": {},
   "source": [
    "Given to us beforehand, the images are 32 x 32 x 3, which is 3072 pixels. The data has 7702 rows and each row is an image with 3072 pixels with the first column as the label for the image.\n",
    "\n",
    "#### Exploratory Data Analysis\n",
    "We will clean up the data by checking the data for duplicates and for null values."
   ]
  },
  {
   "cell_type": "code",
   "execution_count": 2,
   "id": "d9e5c7b5",
   "metadata": {},
   "outputs": [
    {
     "name": "stdout",
     "output_type": "stream",
     "text": [
      "After dropping duplicates:  (7702, 3073)\n",
      "This many null values total: 49\n"
     ]
    }
   ],
   "source": [
    "# Check for possible duplicates\n",
    "data = data.drop_duplicates()\n",
    "print(\"After dropping duplicates: \", data.shape)\n",
    "\n",
    "# Check for null values\n",
    "print(f'This many null values total: {data.isnull().sum().sum()}')"
   ]
  },
  {
   "cell_type": "markdown",
   "id": "fa7a3353",
   "metadata": {},
   "source": [
    "There seem to be no duplicates however we have 49 rows with null values.\n",
    "\n",
    "Let's examine these rows."
   ]
  },
  {
   "cell_type": "code",
   "execution_count": 3,
   "id": "2bcb4539",
   "metadata": {},
   "outputs": [
    {
     "name": "stdout",
     "output_type": "stream",
     "text": [
      "     label  x_0  x_1  x_2  x_3  x_4  x_5  x_6  x_7  x_8  ...  x_3062  x_3063  \\\n",
      "51     NaN  210  237  247  205  232  242  198  225  235  ...     247     209   \n",
      "4741   NaN  215  240  247  216  240  246  216  239  245  ...     241     207   \n",
      "4934   NaN  203  230  242  203  231  242  203  231  242  ...     246     204   \n",
      "4935   NaN  218  247  254  217  246  253  216  244  252  ...     245     201   \n",
      "5119   NaN  156  188  204  155  188  204  154  188  204  ...     204     150   \n",
      "5333   NaN  158  186  210  158  186  210  158  186  210  ...     213     162   \n",
      "5355   NaN  158  182  201  157  181  200  156  181  200  ...     199     156   \n",
      "5358   NaN  155  182  199  155  182  199  156  182  200  ...     203     161   \n",
      "5386   NaN  163  191  211  163  191  211  164  191  210  ...     205     153   \n",
      "5448   NaN   65   73   90   65   71   94   63   68   95  ...     213     162   \n",
      "5449   NaN  144  168  190  145  170  192  148  172  196  ...     215     162   \n",
      "5450   NaN  149  171  199  148  170  199  147  169  197  ...     211     155   \n",
      "5451   NaN   75   91   96   59   77   78   66   87   90  ...     210     163   \n",
      "5452   NaN  130  151  196  134  154  201  127  147  195  ...     206     158   \n",
      "5453   NaN  131  152  204  127  151  203  126  150  202  ...     199     138   \n",
      "5454   NaN  166  193  212  166  193  211  167  193  210  ...     210     158   \n",
      "5512   NaN  166  192  209  166  192  209  166  191  209  ...     203     160   \n",
      "5622   NaN  158  185  206  157  184  205  156  182  203  ...     206     158   \n",
      "5680   NaN  159  184  204  159  184  204  159  184  204  ...     205     160   \n",
      "5699   NaN  164  186  204  161  184  202  159  183  201  ...     202     152   \n",
      "5700   NaN  163  188  208  162  188  208  161  188  207  ...     208     162   \n",
      "5779   NaN  158  184  201  158  184  201  158  184  201  ...     207     165   \n",
      "5797   NaN  152  178  195  153  179  196  157  179  199  ...     206     163   \n",
      "5927   NaN  156  186  203  156  186  203  157  187  204  ...     204     160   \n",
      "6043   NaN  188  215  226  189  216  227  191  218  229  ...     204     149   \n",
      "6052   NaN  191  220  229  189  219  227  187  219  225  ...     235     198   \n",
      "6175   NaN  194  227  236  194  227  236  194  227  236  ...     228     191   \n",
      "6204   NaN  206  231  240  205  230  239  201  227  237  ...     239     197   \n",
      "6233   NaN  194  224  235  195  225  236  197  227  238  ...     226     189   \n",
      "6234   NaN  199  228  235  199  228  235  199  228  235  ...     235     195   \n",
      "6246   NaN  186  213  224  176  203  213  164  191  201  ...     228     191   \n",
      "6406   NaN  218  243  253  218  243  253  218  243  253  ...     248     225   \n",
      "6448   NaN  211  234  242  211  234  242  211  234  243  ...     239     215   \n",
      "6534   NaN  213  232  239  212  231  238  213  232  239  ...     235     209   \n",
      "6554   NaN  213  235  246  214  236  247  217  239  250  ...     228     206   \n",
      "6587   NaN  190  211  213  190  211  213  192  213  215  ...     223     199   \n",
      "6614   NaN  221  243  249  219  241  247  217  239  244  ...     241     215   \n",
      "6745   NaN  198  234  250  199  234  250  199  235  250  ...     244     189   \n",
      "6939   NaN  186  229  247  186  228  246  185  227  245  ...     240     185   \n",
      "7300   NaN  179  224  240  179  223  239  178  221  238  ...     255     197   \n",
      "7310   NaN  206  236  255  207  237  255  207  237  255  ...     245     197   \n",
      "7316   NaN  185  220  253  185  222  250  186  224  246  ...     254     191   \n",
      "7486   NaN  194  234  249  195  234  249  194  233  248  ...     245     192   \n",
      "7487   NaN  216  247  252  216  247  252  216  247  251  ...     251     209   \n",
      "7570   NaN  194  230  246  194  230  246  194  230  246  ...     250     198   \n",
      "7571   NaN  188  225  239  184  221  234  179  214  227  ...     243     187   \n",
      "7575   NaN  187  230  253  187  230  253  186  230  253  ...     251     198   \n",
      "7677   NaN  197  234  248  198  235  249  198  235  249  ...     244     192   \n",
      "7678   NaN  199  236  250  200  236  250  202  235  250  ...     249     197   \n",
      "\n",
      "      x_3064  x_3065  x_3066  x_3067  x_3068  x_3069  x_3070  x_3071  \n",
      "51       238     247     208     237     246     207     236     245  \n",
      "4741     236     241     207     236     241     207     236     242  \n",
      "4934     237     247     203     236     246     202     235     244  \n",
      "4935     233     244     201     233     243     201     232     243  \n",
      "5119     179     204     151     181     205     153     182     206  \n",
      "5333     190     213     162     190     214     162     190     214  \n",
      "5355     181     198     156     181     198     156     181     198  \n",
      "5358     185     203     162     186     204     162     186     204  \n",
      "5386     184     205     153     184     205     153     184     205  \n",
      "5448     187     213     163     188     214     163     188     214  \n",
      "5449     191     215     162     192     215     162     192     215  \n",
      "5450     187     212     156     187     212     157     187     212  \n",
      "5451     187     211     161     185     209     164     188     212  \n",
      "5452     186     203     164     190     207     165     188     207  \n",
      "5453     172     195     145     179     202     144     178     202  \n",
      "5454     186     210     158     186     210     158     186     210  \n",
      "5512     187     202     160     186     202     160     186     202  \n",
      "5622     181     205     156     180     204     156     180     204  \n",
      "5680     188     205     160     188     206     160     188     206  \n",
      "5699     180     203     152     180     204     154     182     206  \n",
      "5700     190     208     162     189     208     162     189     208  \n",
      "5779     188     209     165     188     209     164     188     208  \n",
      "5797     189     206     163     189     206     164     191     206  \n",
      "5927     189     204     160     189     204     160     189     204  \n",
      "6043     178     187     131     160     169     116     145     154  \n",
      "6052     224     236     201     227     238     201     226     238  \n",
      "6175     220     229     192     221     230     193     222     231  \n",
      "6204     225     239     198     226     240     200     228     241  \n",
      "6233     218     227     189     219     227     190     219     228  \n",
      "6234     223     235     195     223     234     195     223     234  \n",
      "6246     221     228     190     219     226     188     217     224  \n",
      "6406     247     249     226     247     249     227     248     250  \n",
      "6448     234     242     217     238     245     219     239     247  \n",
      "6534     228     236     211     231     238     212     232     239  \n",
      "6554     226     232     212     231     238     214     234     241  \n",
      "6587     219     221     197     218     220     196     217     219  \n",
      "6614     233     244     217     235     246     219     237     248  \n",
      "6745     228     243     188     227     242     189     227     242  \n",
      "6939     227     241     186     227     241     186     227     241  \n",
      "7300     228     255     197     228     254     197     229     253  \n",
      "7310     231     244     200     234     247     202     236     249  \n",
      "7316     229     253     190     231     251     189     231     248  \n",
      "7486     225     245     192     225     245     191     224     244  \n",
      "7487     241     252     210     242     253     211     243     254  \n",
      "7570     234     250     198     234     250     197     233     249  \n",
      "7571     228     243     187     227     243     187     227     243  \n",
      "7575     234     251     198     234     251     198     234     251  \n",
      "7677     228     244     193     229     245     193     229     245  \n",
      "7678     233     249     196     232     248     196     232     248  \n",
      "\n",
      "[49 rows x 3073 columns]\n"
     ]
    }
   ],
   "source": [
    "# Find which rows have null values\n",
    "nan_rows = data[data.isnull().any(1)]\n",
    "\n",
    "print(nan_rows)"
   ]
  },
  {
   "cell_type": "markdown",
   "id": "949c3dd5",
   "metadata": {},
   "source": [
    "These rows have null labels but since the image pixels seem to be intact, we do not need to remove them since we will not be using labels in our methodology.\n",
    "\n",
    "To recap our method, we will:\n",
    "1) design and train an autoencoder \n",
    "2) then use k-nearest neighbors to query the image. \n",
    "\n",
    "The autoencoder does not need a label set since it will be trained on the image it was fed with. Our k-nearest neighbor algorithm is an unsupervised learning method and will also not need a labeled set.\n",
    "\n",
    "Now we will separate the label column from the dataframe."
   ]
  },
  {
   "cell_type": "code",
   "execution_count": 4,
   "id": "01c4fa60",
   "metadata": {},
   "outputs": [],
   "source": [
    "# Separate label column\n",
    "labels = data.pop('label')"
   ]
  },
  {
   "cell_type": "markdown",
   "id": "9fef90ec",
   "metadata": {},
   "source": [
    "For further exploratory data analysis, let's analyze the labels. Devanagari has 47 primary characters according to Wikipedia."
   ]
  },
  {
   "cell_type": "code",
   "execution_count": 5,
   "id": "77cc5d3c",
   "metadata": {},
   "outputs": [
    {
     "name": "stdout",
     "output_type": "stream",
     "text": [
      "601\n"
     ]
    }
   ],
   "source": [
    "# Number of unique labels\n",
    "print(labels.nunique())"
   ]
  },
  {
   "cell_type": "markdown",
   "id": "7e23ad14",
   "metadata": {},
   "source": [
    "There are 601 unique labels! Almost 12 times our expected number of 47 characters for the writing system. There must be differences in spelling, mislabels, and/or possibly irrevelant images.\n",
    "\n",
    "Fortunately, this will have no consequences for our methods since we will not be using the labels at all."
   ]
  },
  {
   "cell_type": "markdown",
   "id": "a6aabd9d",
   "metadata": {},
   "source": [
    "#### Data Processing\n",
    "Now we can begin reconstructing the images from the row of pixels."
   ]
  },
  {
   "cell_type": "code",
   "execution_count": 6,
   "id": "a1b7c408",
   "metadata": {},
   "outputs": [
    {
     "name": "stdout",
     "output_type": "stream",
     "text": [
      "Images shape: 7701\n"
     ]
    }
   ],
   "source": [
    "import numpy as np\n",
    "import cv2\n",
    "\n",
    "# Reconstructing the images from the row of pixels\n",
    "data_rows = data.shape[0]\n",
    "images = []\n",
    "for i in range(1,data_rows): # Start at 1 to skip the header\n",
    "    img = np.array(data.iloc[i], dtype = np.float32)\n",
    "    img = img / 255\n",
    "    img = img.reshape(32,32,3)\n",
    "    img = cv2.cvtColor(img, cv2.COLOR_RGB2GRAY)\n",
    "    images.append(img)\n",
    "    \n",
    "# Checking the shape of our image array\n",
    "images = np.array(images)\n",
    "print(f'Images shape: {len(images)}')"
   ]
  },
  {
   "cell_type": "code",
   "execution_count": 7,
   "id": "01388514",
   "metadata": {},
   "outputs": [
    {
     "data": {
      "text/plain": [
       "<matplotlib.image.AxesImage at 0x28c3effd4f0>"
      ]
     },
     "execution_count": 7,
     "metadata": {},
     "output_type": "execute_result"
    },
    {
     "data": {
      "image/png": "[encoded data removed]",
      "text/plain": [
       "<Figure size 288x432 with 1 Axes>"
      ]
     },
     "metadata": {
      "needs_background": "light"
     },
     "output_type": "display_data"
    }
   ],
   "source": [
    "# Checking our image\n",
    "import matplotlib.pyplot as plt\n",
    "\n",
    "plt.figure('image',figsize = (4,6))\n",
    "plt.imshow(images[0])"
   ]
  },
  {
   "cell_type": "markdown",
   "id": "d69d13e5",
   "metadata": {},
   "source": [
    "#### Building and training the model\n",
    "First we set aside a held-out set for testing. Then build and train the model.\n",
    "\n",
    "We will be building an autoencoder with a convolutional neural network. The network will extract features from the image, condense it into latent space, and decompress it back to its original image as close as possible."
   ]
  },
  {
   "cell_type": "code",
   "execution_count": 10,
   "id": "7c5e834c",
   "metadata": {},
   "outputs": [
    {
     "name": "stdout",
     "output_type": "stream",
     "text": [
      "Train data shape: (6160, 32, 32)\n",
      "Test data shape: (1541, 32, 32)\n"
     ]
    }
   ],
   "source": [
    "# Set aside an untouched test set \n",
    "from sklearn.model_selection import train_test_split\n",
    "\n",
    "train_data, test_data = train_test_split(images, test_size=0.2)\n",
    "\n",
    "print(f'Train data shape: {train_data.shape}')\n",
    "print(f'Test data shape: {test_data.shape}')"
   ]
  },
  {
   "cell_type": "code",
   "execution_count": 14,
   "id": "c682de6c",
   "metadata": {},
   "outputs": [
    {
     "name": "stdout",
     "output_type": "stream",
     "text": [
      "Model: \"model\"\n",
      "_________________________________________________________________\n",
      " Layer (type)                Output Shape              Param #   \n",
      "=================================================================\n",
      " input_1 (InputLayer)        [(None, 32, 32, 1)]       0         \n",
      "                                                                 \n",
      " batch_normalization (BatchN  (None, 32, 32, 1)        4         \n",
      " ormalization)                                                   \n",
      "                                                                 \n",
      " conv2d (Conv2D)             (None, 32, 32, 8)         80        \n",
      "                                                                 \n",
      " max_pooling2d (MaxPooling2D  (None, 16, 16, 8)        0         \n",
      " )                                                               \n",
      "                                                                 \n",
      " conv2d_1 (Conv2D)           (None, 16, 16, 16)        1168      \n",
      "                                                                 \n",
      " encoder (MaxPooling2D)      (None, 8, 8, 16)          0         \n",
      "                                                                 \n",
      " conv2d_transpose (Conv2DTra  (None, 8, 8, 8)          1160      \n",
      " nspose)                                                         \n",
      "                                                                 \n",
      " up_sampling2d (UpSampling2D  (None, 16, 16, 8)        0         \n",
      " )                                                               \n",
      "                                                                 \n",
      " conv2d_transpose_1 (Conv2DT  (None, 16, 16, 1)        73        \n",
      " ranspose)                                                       \n",
      "                                                                 \n",
      " up_sampling2d_1 (UpSampling  (None, 32, 32, 1)        0         \n",
      " 2D)                                                             \n",
      "                                                                 \n",
      "=================================================================\n",
      "Total params: 2,485\n",
      "Trainable params: 2,483\n",
      "Non-trainable params: 2\n",
      "_________________________________________________________________\n",
      "None\n"
     ]
    }
   ],
   "source": [
    "from tensorflow.keras.models import Sequential, Model\n",
    "from tensorflow.keras.layers import Input, BatchNormalization, Conv2D, Conv2DTranspose, MaxPooling2D, UpSampling2D\n",
    "\n",
    "BATCH = 32\n",
    "EPOCHS = 1 # For testing\n",
    "\n",
    "# Build the model\n",
    "def build_model():\n",
    "    input_layer = Input(shape=(32,32,1)) # The 32x32 size of the original input is pretty small so we will keep filters at 8\n",
    "    x = BatchNormalization()(input_layer)\n",
    "    x = Conv2D(8,(3,3),activation='relu',padding='same')(x) # Padding is the same throughout so output size matches image sizes for training the autoencoder (squeeze it then expand it to see if it encodes well)\n",
    "    #x = BatchNormalization()(x)\n",
    "    x = MaxPooling2D(2)(x)\n",
    "    x = Conv2D(16,(3,3),activation='relu',padding='same')(x)\n",
    "    #x = BatchNormalization()(x)\n",
    "    encoded = MaxPooling2D(2, name='encoder')(x) # This is the encoded representation\n",
    "\n",
    "    x = Conv2DTranspose(8,(3,3),activation='relu',padding='same')(encoded)\n",
    "    x = UpSampling2D(2)(x)\n",
    "    x = Conv2DTranspose(1,(3,3),activation='sigmoid',padding='same')(x)\n",
    "    out = UpSampling2D(2)(x)\n",
    "\n",
    "    model = Model(input_layer, out)\n",
    "    print(model.summary())\n",
    "    \n",
    "    # Compile the model\n",
    "    model.compile(\n",
    "        loss = 'mse', # mse to minimize the pixel value differences\n",
    "        optimizer = 'adam'\n",
    "        )\n",
    "\n",
    "    return model\n",
    "\n",
    "autoencoder = build_model()"
   ]
  },
  {
   "cell_type": "markdown",
   "id": "aca3c6f9",
   "metadata": {},
   "source": [
    "Now train the autoencoder model using the same input image as the label set."
   ]
  },
  {
   "cell_type": "code",
   "execution_count": 15,
   "id": "a1fa6c5a",
   "metadata": {},
   "outputs": [
    {
     "name": "stdout",
     "output_type": "stream",
     "text": [
      "193/193 [==============================] - 3s 12ms/step - loss: 0.0185\n"
     ]
    }
   ],
   "source": [
    "# Train model\n",
    "history = autoencoder.fit(\n",
    "    train_data,\n",
    "    train_data, # Trained on input image\n",
    "    batch_size = BATCH,\n",
    "    epochs = EPOCHS\n",
    "    )"
   ]
  },
  {
   "cell_type": "markdown",
   "id": "1671b6e0",
   "metadata": {},
   "source": [
    "#### Evaluate the model\n",
    "Let's see how the model did."
   ]
  },
  {
   "cell_type": "code",
   "execution_count": 16,
   "id": "7672a0bf",
   "metadata": {},
   "outputs": [
    {
     "name": "stdout",
     "output_type": "stream",
     "text": [
      "49/49 [==============================] - 0s 5ms/step - loss: 0.0187\n",
      "These are test data scores: 0.018693121150135994\n"
     ]
    }
   ],
   "source": [
    "# Final evaluation on held out set\n",
    "scores = autoencoder.evaluate(\n",
    "    test_data,\n",
    "    test_data,\n",
    "    )\n",
    "\n",
    "print(f'These are test data scores: {scores}')"
   ]
  },
  {
   "cell_type": "markdown",
   "id": "c9c3ceaf",
   "metadata": {},
   "source": [
    "The loss doesn't tell us much about the decompressed image. We will run the model on our earlier image to see how it looks."
   ]
  },
  {
   "cell_type": "code",
   "execution_count": 32,
   "id": "d9806e62",
   "metadata": {},
   "outputs": [
    {
     "name": "stdout",
     "output_type": "stream",
     "text": [
      "(1, 32, 32, 1)\n",
      "(32, 32)\n"
     ]
    },
    {
     "data": {
      "text/plain": [
       "<matplotlib.image.AxesImage at 0x28c7621af40>"
      ]
     },
     "execution_count": 32,
     "metadata": {},
     "output_type": "execute_result"
    },
    {
     "data": {
      "image/png": "[encoded data removed]",
      "text/plain": [
       "<Figure size 576x432 with 2 Axes>"
      ]
     },
     "metadata": {
      "needs_background": "light"
     },
     "output_type": "display_data"
    }
   ],
   "source": [
    "sample_img = images[0]\n",
    "sample_img = np.expand_dims(sample_img, axis=0) # To meet model input dimension requirement\n",
    "\n",
    "predict_img = autoencoder.predict(sample_img)\n",
    "predict_img = np.squeeze(predict_img) # To display with image dimensions\n",
    "\n",
    "plt.figure('predicted image',figsize = (8,6))\n",
    "plt.subplot(1, 2, 1)\n",
    "plt.imshow(images[0])\n",
    "plt.subplot(1, 2, 2)\n",
    "plt.imshow(predict_img)"
   ]
  },
  {
   "cell_type": "markdown",
   "id": "2e695a61",
   "metadata": {},
   "source": [
    "The reconstructed image is rough but we can enough traces of the original image to spot similarities. Our encoded representation could be improved but is at least sufficient enough for use.\n",
    "\n",
    "#### Building the kNN model for Querying\n",
    "Now we pull out the encoded representation from the autoencoder model to train and build the k-nearest neighbor model.\n",
    "\n",
    "We will also use the whole dataset, including the test set, to train the model so we can look for similar images within the whole set. \n",
    "\n",
    "However, we will pull our random query image from the test set to simulate how well our models work on out-of-sample data. We will also have to delete the query image from our new dataset as it is trivial to return the same image we queried with."
   ]
  },
  {
   "cell_type": "code",
   "execution_count": 34,
   "id": "0d4710a6",
   "metadata": {},
   "outputs": [
    {
     "name": "stdout",
     "output_type": "stream",
     "text": [
      "Test data shape: (1541, 32, 32)\n",
      "New Test data shape: (1540, 32, 32)\n",
      "New Complete data shape: (7700, 32, 32)\n"
     ]
    }
   ],
   "source": [
    "import random\n",
    "\n",
    "# Create encoder for KNN querying\n",
    "encoder = Model(inputs = autoencoder.inputs, outputs = autoencoder.get_layer('encoder').output)\n",
    "\n",
    "# Query image from held out set where model never saw the query\n",
    "random_idx = random.randint(1, test_data.shape[0])\n",
    "query = test_data[random_idx]\n",
    "\n",
    "# Delete query image from the entire set\n",
    "print(f'Test data shape: {test_data.shape}')\n",
    "new_testd = np.delete(test_data, random_idx, axis = 0)\n",
    "print(f'New Test data shape: {new_testd.shape}')\n",
    "whole_data = np.concatenate([train_data, new_testd])\n",
    "print(f'New Complete data shape: {whole_data.shape}')"
   ]
  },
  {
   "cell_type": "markdown",
   "id": "0beb50e1",
   "metadata": {},
   "source": [
    "In order to train the kNN model, we have to encode the whole training set, then flattened down to two dimensions in order to train the kNN, before finally fitting the kNN on those representations."
   ]
  },
  {
   "cell_type": "code",
   "execution_count": 36,
   "id": "559a4535",
   "metadata": {},
   "outputs": [],
   "source": [
    "# Get the latent space representation of the dataset\n",
    "data_encoded = encoder.predict(whole_data)\n",
    "query_encoded = encoder.predict(query.reshape(1,32,32,1)) # Have to reshape as explicitly one item since one entry is not interpreted correctly"
   ]
  },
  {
   "cell_type": "code",
   "execution_count": 37,
   "id": "cf18c463",
   "metadata": {},
   "outputs": [
    {
     "data": {
      "text/plain": [
       "NearestNeighbors()"
      ]
     },
     "execution_count": 37,
     "metadata": {},
     "output_type": "execute_result"
    }
   ],
   "source": [
    "from sklearn.neighbors import NearestNeighbors\n",
    "\n",
    "# Using kNN to perform the query\n",
    "neighbors = 5\n",
    "kNN = NearestNeighbors(n_neighbors = neighbors)\n",
    "\n",
    "# Train the kNN model on encoded dataset (with the query image deleted)\n",
    "kNN.fit(data_encoded.reshape(-1,8*8*16)) # Reshape since kNN takes only 2 dim items"
   ]
  },
  {
   "cell_type": "markdown",
   "id": "3c745ecf",
   "metadata": {},
   "source": [
    "Repeating the reshape for the query image to two dimensions to use the kNN, we then reshape the results back to display the images."
   ]
  },
  {
   "cell_type": "code",
   "execution_count": 38,
   "id": "2480ac77",
   "metadata": {},
   "outputs": [
    {
     "data": {
      "image/png": "[encoded data removed]",
      "text/plain": [
       "<Figure size 288x432 with 1 Axes>"
      ]
     },
     "metadata": {
      "needs_background": "light"
     },
     "output_type": "display_data"
    },
    {
     "data": {
      "image/png": "[encoded data removed]",
      "text/plain": [
       "<Figure size 1440x432 with 5 Axes>"
      ]
     },
     "metadata": {
      "needs_background": "light"
     },
     "output_type": "display_data"
    }
   ],
   "source": [
    "# Now find the nearest neighbors\n",
    "distances, indices = kNN.kneighbors(query_encoded.reshape(1,8*8*16))\n",
    "\n",
    "# Use the indices to display the images most similar to the query image\n",
    "query_results = whole_data[indices]\n",
    "query_results = query_results.reshape(-1,32,32,1)\n",
    "\n",
    "# Display the closest images\n",
    "plt.figure('original image',figsize = (4,6))\n",
    "plt.imshow(query.reshape(32,32,1))\n",
    "\n",
    "plt.figure('closest images',figsize = (20,6))\n",
    "for i in range(neighbors):\n",
    "    ax = plt.subplot(1, neighbors, i+1)\n",
    "    plt.imshow(query_results[i].reshape(32,32,1))\n",
    "\n",
    "plt.show()"
   ]
  },
  {
   "cell_type": "markdown",
   "id": "95112217",
   "metadata": {},
   "source": [
    "#### Conclusion\n",
    "Success! The five closest images are very similar to our query. This conclusion our Devanagari CNN autoencoder with kNN for querying images."
   ]
  }
 ],
 "metadata": {
  "kernelspec": {
   "display_name": "Python 3 (ipykernel)",
   "language": "python",
   "name": "python3"
  },
  "language_info": {
   "codemirror_mode": {
    "name": "ipython",
    "version": 3
   },
   "file_extension": ".py",
   "mimetype": "text/x-python",
   "name": "python",
   "nbconvert_exporter": "python",
   "pygments_lexer": "ipython3",
   "version": "3.9.5"
  }
 },
 "nbformat": 4,
 "nbformat_minor": 5
}
